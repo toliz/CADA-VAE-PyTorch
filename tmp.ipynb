{
 "metadata": {
  "language_info": {
   "codemirror_mode": {
    "name": "ipython",
    "version": 3
   },
   "file_extension": ".py",
   "mimetype": "text/x-python",
   "name": "python",
   "nbconvert_exporter": "python",
   "pygments_lexer": "ipython3",
   "version": "3.7.6-final"
  },
  "orig_nbformat": 2,
  "kernelspec": {
   "name": "python3",
   "display_name": "Python 3",
   "language": "python"
  }
 },
 "nbformat": 4,
 "nbformat_minor": 2,
 "cells": [
  {
   "cell_type": "code",
   "execution_count": 12,
   "metadata": {},
   "outputs": [
    {
     "output_type": "error",
     "ename": "NameError",
     "evalue": "name 'self' is not defined",
     "traceback": [
      "\u001b[0;31m---------------------------------------------------------------------------\u001b[0m",
      "\u001b[0;31mNameError\u001b[0m                                 Traceback (most recent call last)",
      "\u001b[0;32m<ipython-input-12-d11f4d55c032>\u001b[0m in \u001b[0;36m<module>\u001b[0;34m\u001b[0m\n\u001b[1;32m     17\u001b[0m \u001b[0mtest_unseen_loc\u001b[0m \u001b[0;34m=\u001b[0m \u001b[0mmatcontent\u001b[0m\u001b[0;34m[\u001b[0m\u001b[0;34m'test_unseen_loc'\u001b[0m\u001b[0;34m]\u001b[0m\u001b[0;34m.\u001b[0m\u001b[0msqueeze\u001b[0m\u001b[0;34m(\u001b[0m\u001b[0;34m)\u001b[0m \u001b[0;34m-\u001b[0m \u001b[0;36m1\u001b[0m\u001b[0;34m\u001b[0m\u001b[0;34m\u001b[0m\u001b[0m\n\u001b[1;32m     18\u001b[0m \u001b[0;34m\u001b[0m\u001b[0m\n\u001b[0;32m---> 19\u001b[0;31m \u001b[0maux_data\u001b[0m \u001b[0;34m=\u001b[0m \u001b[0mtorch\u001b[0m\u001b[0;34m.\u001b[0m\u001b[0mfrom_numpy\u001b[0m\u001b[0;34m(\u001b[0m\u001b[0mmatcontent\u001b[0m\u001b[0;34m[\u001b[0m\u001b[0;34m'att'\u001b[0m\u001b[0;34m]\u001b[0m\u001b[0;34m.\u001b[0m\u001b[0mT\u001b[0m\u001b[0;34m)\u001b[0m\u001b[0;34m.\u001b[0m\u001b[0mfloat\u001b[0m\u001b[0;34m(\u001b[0m\u001b[0;34m)\u001b[0m\u001b[0;34m.\u001b[0m\u001b[0mto\u001b[0m\u001b[0;34m(\u001b[0m\u001b[0mself\u001b[0m\u001b[0;34m.\u001b[0m\u001b[0mdevice\u001b[0m\u001b[0;34m)\u001b[0m\u001b[0;34m\u001b[0m\u001b[0;34m\u001b[0m\u001b[0m\n\u001b[0m",
      "\u001b[0;31mNameError\u001b[0m: name 'self' is not defined"
     ]
    }
   ],
   "source": [
    "import scipy.io as sio\n",
    "import numpy as np\n",
    "import torch\n",
    "\n",
    "path= 'data/AWA2/res101.mat'\n",
    "matcontent = sio.loadmat(path)\n",
    "feature = matcontent['features'].T\n",
    "label = matcontent['labels'].astype(int).squeeze() - 1\n",
    "\n",
    "path = 'data/AWA2/att_splits.mat'\n",
    "matcontent = sio.loadmat(path)\n",
    "# numpy array index starts from 0, matlab starts from 1\n",
    "trainval_loc = matcontent['trainval_loc'].squeeze() - 1\n",
    "train_loc = matcontent['train_loc'].squeeze() - 1 #--> train_feature = TRAIN SEEN\n",
    "val_unseen_loc = matcontent['val_loc'].squeeze() - 1 #--> test_unseen_feature = TEST UNSEEN\n",
    "test_seen_loc = matcontent['test_seen_loc'].squeeze() - 1\n",
    "test_unseen_loc = matcontent['test_unseen_loc'].squeeze() - 1\n",
    "\n",
    "aux_data = torch.from_numpy(matcontent['att'].T).float().to(self.device)"
   ]
  },
  {
   "cell_type": "code",
   "execution_count": 9,
   "metadata": {},
   "outputs": [
    {
     "output_type": "stream",
     "name": "stdout",
     "text": [
      "(37322, 2048)\n(37322,)\n(23527,)\n"
     ]
    }
   ],
   "source": [
    "print(feature.shape)\n",
    "print(label.shape)\n",
    "print(trainval_loc.shape)"
   ]
  },
  {
   "cell_type": "code",
   "execution_count": 10,
   "metadata": {},
   "outputs": [
    {
     "output_type": "execute_result",
     "data": {
      "text/plain": [
       "array([ 0,  0,  0, ..., 37, 37, 37])"
      ]
     },
     "metadata": {},
     "execution_count": 10
    }
   ],
   "source": [
    "label"
   ]
  },
  {
   "cell_type": "code",
   "execution_count": 14,
   "metadata": {},
   "outputs": [
    {
     "output_type": "error",
     "ename": "NameError",
     "evalue": "name 'device' is not defined",
     "traceback": [
      "\u001b[0;31m---------------------------------------------------------------------------\u001b[0m",
      "\u001b[0;31mNameError\u001b[0m                                 Traceback (most recent call last)",
      "\u001b[0;32m<ipython-input-14-11d5a88d1fee>\u001b[0m in \u001b[0;36m<module>\u001b[0;34m\u001b[0m\n\u001b[1;32m      7\u001b[0m \u001b[0mtest_unseen_feature\u001b[0m \u001b[0;34m=\u001b[0m \u001b[0mscaler\u001b[0m\u001b[0;34m.\u001b[0m\u001b[0mtransform\u001b[0m\u001b[0;34m(\u001b[0m\u001b[0mfeature\u001b[0m\u001b[0;34m[\u001b[0m\u001b[0mtest_unseen_loc\u001b[0m\u001b[0;34m]\u001b[0m\u001b[0;34m)\u001b[0m\u001b[0;34m\u001b[0m\u001b[0;34m\u001b[0m\u001b[0m\n\u001b[1;32m      8\u001b[0m \u001b[0;34m\u001b[0m\u001b[0m\n\u001b[0;32m----> 9\u001b[0;31m \u001b[0mtrain_feature\u001b[0m \u001b[0;34m=\u001b[0m \u001b[0mtorch\u001b[0m\u001b[0;34m.\u001b[0m\u001b[0mfrom_numpy\u001b[0m\u001b[0;34m(\u001b[0m\u001b[0mtrain_feature\u001b[0m\u001b[0;34m)\u001b[0m\u001b[0;34m.\u001b[0m\u001b[0mfloat\u001b[0m\u001b[0;34m(\u001b[0m\u001b[0;34m)\u001b[0m\u001b[0;34m.\u001b[0m\u001b[0mto\u001b[0m\u001b[0;34m(\u001b[0m\u001b[0mdevice\u001b[0m\u001b[0;34m)\u001b[0m\u001b[0;34m\u001b[0m\u001b[0;34m\u001b[0m\u001b[0m\n\u001b[0m\u001b[1;32m     10\u001b[0m \u001b[0mtest_seen_feature\u001b[0m \u001b[0;34m=\u001b[0m \u001b[0mtorch\u001b[0m\u001b[0;34m.\u001b[0m\u001b[0mfrom_numpy\u001b[0m\u001b[0;34m(\u001b[0m\u001b[0mtest_seen_feature\u001b[0m\u001b[0;34m)\u001b[0m\u001b[0;34m.\u001b[0m\u001b[0mfloat\u001b[0m\u001b[0;34m(\u001b[0m\u001b[0;34m)\u001b[0m\u001b[0;34m.\u001b[0m\u001b[0mto\u001b[0m\u001b[0;34m(\u001b[0m\u001b[0mdevice\u001b[0m\u001b[0;34m)\u001b[0m\u001b[0;34m\u001b[0m\u001b[0;34m\u001b[0m\u001b[0m\n\u001b[1;32m     11\u001b[0m \u001b[0mtest_unseen_feature\u001b[0m \u001b[0;34m=\u001b[0m \u001b[0mtorch\u001b[0m\u001b[0;34m.\u001b[0m\u001b[0mfrom_numpy\u001b[0m\u001b[0;34m(\u001b[0m\u001b[0mtest_unseen_feature\u001b[0m\u001b[0;34m)\u001b[0m\u001b[0;34m.\u001b[0m\u001b[0mfloat\u001b[0m\u001b[0;34m(\u001b[0m\u001b[0;34m)\u001b[0m\u001b[0;34m.\u001b[0m\u001b[0mto\u001b[0m\u001b[0;34m(\u001b[0m\u001b[0mdevice\u001b[0m\u001b[0;34m)\u001b[0m\u001b[0;34m\u001b[0m\u001b[0;34m\u001b[0m\u001b[0m\n",
      "\u001b[0;31mNameError\u001b[0m: name 'device' is not defined"
     ]
    }
   ],
   "source": [
    "from sklearn import preprocessing\n",
    "\n",
    "device = 'cpu'\n",
    "\n",
    "scaler = preprocessing.MinMaxScaler()\n",
    "\n",
    "train_feature = scaler.fit_transform(feature[trainval_loc])\n",
    "test_seen_feature = scaler.transform(feature[test_seen_loc])\n",
    "test_unseen_feature = scaler.transform(feature[test_unseen_loc])\n",
    "\n",
    "train_feature = torch.from_numpy(train_feature).float().to(device)\n",
    "test_seen_feature = torch.from_numpy(test_seen_feature).float().to(device)\n",
    "test_unseen_feature = torch.from_numpy(test_unseen_feature).float().to(device)\n",
    "\n",
    "train_label = torch.from_numpy(label[trainval_loc]).long().to(device)\n",
    "test_unseen_label = torch.from_numpy(label[test_unseen_loc]).long().to(device)\n",
    "test_seen_label = torch.from_numpy(label[test_seen_loc]).long().to(device)\n",
    "\n",
    "seenclasses = torch.from_numpy(np.unique(train_label.cpu().numpy())).to(device)\n",
    "novelclasses = torch.from_numpy(np.unique(test_unseen_label.cpu().numpy())).to(device)\n",
    "ntrain = train_feature.size()[0]\n",
    "ntrain_class = seenclasses.size(0)\n",
    "ntest_class = novelclasses.size(0)\n",
    "train_class = seenclasses.clone()\n",
    "allclasses = torch.arange(0, ntrain_class+ntest_class).long()\n",
    "\n",
    "train_mapped_label = map_label(train_label, seenclasses)\n",
    "\n",
    "data = {}\n",
    "data['train_seen'] = {}\n",
    "data['train_seen']['resnet_features'] = train_feature\n",
    "data['train_seen']['labels']= train_label\n",
    "data['train_seen'][auxiliary_data_source] = aux_data[train_label]\n",
    "\n",
    "data['train_unseen'] = {}\n",
    "data['train_unseen']['resnet_features'] = None\n",
    "data['train_unseen']['labels'] = None\n",
    "\n",
    "data['test_seen'] = {}\n",
    "data['test_seen']['resnet_features'] = test_seen_feature\n",
    "data['test_seen']['labels'] = test_seen_label\n",
    "\n",
    "data['test_unseen'] = {}\n",
    "data['test_unseen']['resnet_features'] = test_unseen_feature\n",
    "data['test_unseen'][auxiliary_data_source] = aux_data[test_unseen_label]\n",
    "data['test_unseen']['labels'] = test_unseen_label\n",
    "\n",
    "novelclass_aux_data = aux_data[novelclasses]\n",
    "seenclass_aux_data = aux_data[seenclasses]"
   ]
  },
  {
   "cell_type": "code",
   "execution_count": null,
   "metadata": {},
   "outputs": [],
   "source": []
  }
 ]
}